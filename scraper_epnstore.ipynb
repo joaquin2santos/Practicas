{
 "cells": [
  {
   "cell_type": "code",
   "execution_count": 1,
   "metadata": {},
   "outputs": [
    {
     "name": "stdout",
     "output_type": "stream",
     "text": [
      "Datos scrapeados y exportados exitosamente.\n"
     ]
    }
   ],
   "source": [
    "from bs4 import BeautifulSoup\n",
    "import requests\n",
    "import pandas as pd\n",
    "\n",
    "# URL base de la página\n",
    "base_url = \"https://www.epnstore.com.ar/listado/deportes-fitness/suplementos-shakers/suplementos-deportivos/\"\n",
    "\n",
    "# Lista para almacenar los productos y precios\n",
    "productos_totales = []\n",
    "precios_totales = []\n",
    "\n",
    "# Iterar a través de las páginas (en este caso, asumiendo que hay 4 páginas)\n",
    "for pagina in range(1, 5):  # Cambia el rango según la cantidad de páginas\n",
    "    # Construir la URL de la página actual\n",
    "    url = base_url + f\"?page={pagina}\"\n",
    "    \n",
    "    # Obtener el HTML de la página actual\n",
    "    epnstore_obtenido = requests.get(url)\n",
    "    html_epnstore = epnstore_obtenido.text\n",
    "    \n",
    "    # Parsear el contenido\n",
    "    soup = BeautifulSoup(html_epnstore, \"html.parser\")\n",
    "    \n",
    "    # Encontrar los productos y precios de la página actual\n",
    "    separadores = soup.find_all('h2', class_=\"ui-search-item__title shops__item-title\")\n",
    "    price = soup.find_all('span', class_=\"andes-money-amount__fraction\")\n",
    "    \n",
    "    # Agregar los productos y precios a las listas totales\n",
    "    for producto, precio in zip(separadores, price):\n",
    "        productos_totales.append(producto.text)\n",
    "        precios_totales.append(precio.text)\n",
    "\n",
    "# Crear un DataFrame con todos los productos y precios\n",
    "df = pd.DataFrame({'Producto': productos_totales, 'Precio': precios_totales})\n",
    "\n",
    "# Lista de palabras clave de marca\n",
    "palabras_clave = ['Age Biologique', 'Athom X', 'Growth Supplements', 'HTN', 'HochSport',\n",
    "                  'Ena', 'Star Nutrition','Gentech','Nutremax', 'Body Advance', 'Nutrilab',\n",
    "                  'Hardcore Nutrition', 'Universal Nutrition', 'Gold Nutrition', 'Mervicklab', \n",
    "                  'Ultra tech', 'Vitatech', 'Ultratech Nutrition', 'Protein Factory', 'Protein Project',\n",
    "                    'Xtrenght', 'Xtrenght Nutrition']\n",
    "\n",
    "# Función para buscar y combinar las marcas en una lista\n",
    "def encontrar_y_combinar_marcas(row):\n",
    "    marcas = [marca for marca in palabras_clave if row['Producto'].find(marca) != -1]\n",
    "    return ', '.join(marcas)\n",
    "\n",
    "# Aplicar la función a cada fila y crear la columna \"Marca\"\n",
    "df['Marca'] = df.apply(encontrar_y_combinar_marcas, axis=1)\n",
    "\n",
    "# El DataFrame ahora tiene una única columna \"Marca\" que contiene las marcas encontradas\n",
    "\n",
    "# Exportar a Excel\n",
    "df.to_excel('Lista_de_precios_EPNStore.xlsx', index=False)\n",
    "\n",
    "print(\"Datos scrapeados y exportados exitosamente.\")\n"
   ]
  }
 ],
 "metadata": {
  "kernelspec": {
   "display_name": "Python 3",
   "language": "python",
   "name": "python3"
  },
  "language_info": {
   "codemirror_mode": {
    "name": "ipython",
    "version": 3
   },
   "file_extension": ".py",
   "mimetype": "text/x-python",
   "name": "python",
   "nbconvert_exporter": "python",
   "pygments_lexer": "ipython3",
   "version": "3.11.4"
  },
  "orig_nbformat": 4
 },
 "nbformat": 4,
 "nbformat_minor": 2
}
